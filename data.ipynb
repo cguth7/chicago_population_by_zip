{
 "cells": [
  {
   "cell_type": "code",
   "execution_count": 1,
   "metadata": {},
   "outputs": [],
   "source": [
    "from datafellow_dependencies import *\n",
    "\n",
    "# !pip/conda install bokeh pandas geopandas pyzipcode matplotlib numpy census us\n",
    "# recommend that you conda create -n datafellow or something similar if running the code, but should be able to see all outputs without running the code"
   ]
  },
  {
   "cell_type": "code",
   "execution_count": 2,
   "metadata": {},
   "outputs": [],
   "source": [
    "c = Census(\"51db0a2566114dfbf23975f0616fa57729b310a7\")\n",
    "zcdb = ZipCodeDatabase()"
   ]
  },
  {
   "cell_type": "code",
   "execution_count": 3,
   "metadata": {},
   "outputs": [],
   "source": [
    "chi_zips = zcdb.find_zip(city='Chicago')\n",
    "z = [chi_zips.zip for chi_zips in chi_zips]\n",
    "z.append(60642) # add one zip code that was not in the database but is in Chicago"
   ]
  },
  {
   "cell_type": "code",
   "execution_count": 4,
   "metadata": {},
   "outputs": [],
   "source": [
    "variables = ('NAME', 'B01001_001E') # total population, documentation: https://api.census.gov/data/2019/acs/acs5/variables.html\n",
    "state = states.IL.fips"
   ]
  },
  {
   "cell_type": "code",
   "execution_count": 5,
   "metadata": {},
   "outputs": [
    {
     "name": "stdout",
     "output_type": "stream",
     "text": [
      "Error with 60650, check if it is actually a zip code in Chicago.\n",
      "Error with 60663, check if it is actually a zip code in Chicago.\n",
      "Error with 60664, check if it is actually a zip code in Chicago.\n",
      "Error with 60665, check if it is actually a zip code in Chicago.\n",
      "Error with 60667, check if it is actually a zip code in Chicago.\n",
      "Error with 60668, check if it is actually a zip code in Chicago.\n",
      "Error with 60669, check if it is actually a zip code in Chicago.\n",
      "Error with 60670, check if it is actually a zip code in Chicago.\n",
      "Error with 60671, check if it is actually a zip code in Chicago.\n",
      "Error with 60672, check if it is actually a zip code in Chicago.\n",
      "Error with 60673, check if it is actually a zip code in Chicago.\n",
      "Error with 60674, check if it is actually a zip code in Chicago.\n",
      "Error with 60675, check if it is actually a zip code in Chicago.\n",
      "Error with 60677, check if it is actually a zip code in Chicago.\n",
      "Error with 60678, check if it is actually a zip code in Chicago.\n",
      "Error with 60679, check if it is actually a zip code in Chicago.\n",
      "Error with 60680, check if it is actually a zip code in Chicago.\n",
      "Error with 60681, check if it is actually a zip code in Chicago.\n",
      "Error with 60683, check if it is actually a zip code in Chicago.\n",
      "Error with 60684, check if it is actually a zip code in Chicago.\n",
      "Error with 60685, check if it is actually a zip code in Chicago.\n",
      "Error with 60687, check if it is actually a zip code in Chicago.\n",
      "Error with 60690, check if it is actually a zip code in Chicago.\n",
      "Error with 60691, check if it is actually a zip code in Chicago.\n",
      "Error with 60692, check if it is actually a zip code in Chicago.\n",
      "Error with 60693, check if it is actually a zip code in Chicago.\n",
      "Error with 60694, check if it is actually a zip code in Chicago.\n",
      "Error with 60697, check if it is actually a zip code in Chicago.\n",
      "Error with 60699, check if it is actually a zip code in Chicago.\n",
      "Error with 60701, check if it is actually a zip code in Chicago.\n",
      "Error with 60650, check if it is actually a zip code in Chicago.\n",
      "Error with 60663, check if it is actually a zip code in Chicago.\n",
      "Error with 60664, check if it is actually a zip code in Chicago.\n",
      "Error with 60665, check if it is actually a zip code in Chicago.\n",
      "Error with 60667, check if it is actually a zip code in Chicago.\n",
      "Error with 60668, check if it is actually a zip code in Chicago.\n",
      "Error with 60669, check if it is actually a zip code in Chicago.\n",
      "Error with 60670, check if it is actually a zip code in Chicago.\n",
      "Error with 60671, check if it is actually a zip code in Chicago.\n",
      "Error with 60672, check if it is actually a zip code in Chicago.\n",
      "Error with 60673, check if it is actually a zip code in Chicago.\n",
      "Error with 60674, check if it is actually a zip code in Chicago.\n",
      "Error with 60675, check if it is actually a zip code in Chicago.\n",
      "Error with 60677, check if it is actually a zip code in Chicago.\n",
      "Error with 60678, check if it is actually a zip code in Chicago.\n",
      "Error with 60679, check if it is actually a zip code in Chicago.\n",
      "Error with 60680, check if it is actually a zip code in Chicago.\n",
      "Error with 60681, check if it is actually a zip code in Chicago.\n",
      "Error with 60683, check if it is actually a zip code in Chicago.\n",
      "Error with 60684, check if it is actually a zip code in Chicago.\n",
      "Error with 60685, check if it is actually a zip code in Chicago.\n",
      "Error with 60687, check if it is actually a zip code in Chicago.\n",
      "Error with 60690, check if it is actually a zip code in Chicago.\n",
      "Error with 60691, check if it is actually a zip code in Chicago.\n",
      "Error with 60692, check if it is actually a zip code in Chicago.\n",
      "Error with 60693, check if it is actually a zip code in Chicago.\n",
      "Error with 60694, check if it is actually a zip code in Chicago.\n",
      "Error with 60697, check if it is actually a zip code in Chicago.\n",
      "Error with 60699, check if it is actually a zip code in Chicago.\n",
      "Error with 60701, check if it is actually a zip code in Chicago.\n"
     ]
    }
   ],
   "source": [
    "for year in (2015,2020):\n",
    "    df = pd.DataFrame()\n",
    "    for chi_zip in z:\n",
    "        temp_zip = chi_zip\n",
    "        try:\n",
    "            temp_pop =  c.acs5.state_zipcode(variables, state, temp_zip, year=year)[0]['B01001_001E']\n",
    "            df = pd.concat([df, pd.DataFrame({'zipcode': temp_zip, 'population': temp_pop, 'year': year}, index=[0])])\n",
    "\n",
    "        except:\n",
    "            print(f\"Error with {temp_zip}, check if it is actually a zip code in Chicago.\")\n",
    "\n",
    "    df.to_csv(\"chi_zips/chi_zips_{}.csv\".format(year), index=False)   #probably should write in a check here so I don't write over files"
   ]
  },
  {
   "cell_type": "code",
   "execution_count": null,
   "metadata": {},
   "outputs": [],
   "source": []
  }
 ],
 "metadata": {
  "kernelspec": {
   "display_name": "base",
   "language": "python",
   "name": "python3"
  },
  "language_info": {
   "codemirror_mode": {
    "name": "ipython",
    "version": 3
   },
   "file_extension": ".py",
   "mimetype": "text/x-python",
   "name": "python",
   "nbconvert_exporter": "python",
   "pygments_lexer": "ipython3",
   "version": "3.10.9"
  }
 },
 "nbformat": 4,
 "nbformat_minor": 2
}
