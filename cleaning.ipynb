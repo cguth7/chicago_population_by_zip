{
 "cells": [
  {
   "cell_type": "code",
   "execution_count": 7,
   "metadata": {},
   "outputs": [],
   "source": [
    "from datafellow_dependencies import *"
   ]
  },
  {
   "cell_type": "code",
   "execution_count": 8,
   "metadata": {},
   "outputs": [],
   "source": [
    "chi_zips_2015 = pd.read_csv('chi_zips/chi_zips_2015.csv')\n",
    "chi_zips_2020 = pd.read_csv('chi_zips/chi_zips_2020.csv')\n",
    "\n",
    "chi_zips_2015 = chi_zips_2015.rename(columns={'population': 'population_2015'})\n",
    "chi_zips_2020 = chi_zips_2020.rename(columns={'population': 'population_2020'})\n",
    "\n",
    "# rename columns "
   ]
  },
  {
   "cell_type": "code",
   "execution_count": 9,
   "metadata": {},
   "outputs": [],
   "source": [
    "chi_zips = pd.merge(chi_zips_2015, chi_zips_2020, on='zipcode', how='inner')"
   ]
  },
  {
   "cell_type": "code",
   "execution_count": 10,
   "metadata": {},
   "outputs": [],
   "source": [
    "# create interesting variables\n",
    "chi_zips['population_change'] = chi_zips['population_2020'] - chi_zips['population_2015']\n",
    "chi_zips['population_change_pct'] = chi_zips['population_change'] / chi_zips['population_2015'] * 100\n",
    "chi_zips['population_change_pct'] = chi_zips['population_change_pct'].round(2)"
   ]
  },
  {
   "cell_type": "code",
   "execution_count": 11,
   "metadata": {},
   "outputs": [
    {
     "name": "stdout",
     "output_type": "stream",
     "text": [
      "<class 'pandas.core.frame.DataFrame'>\n",
      "Int64Index: 56 entries, 0 to 55\n",
      "Data columns (total 7 columns):\n",
      " #   Column                 Non-Null Count  Dtype  \n",
      "---  ------                 --------------  -----  \n",
      " 0   zipcode                56 non-null     int64  \n",
      " 1   population_2015        56 non-null     float64\n",
      " 2   year_x                 56 non-null     int64  \n",
      " 3   population_2020        56 non-null     float64\n",
      " 4   year_y                 56 non-null     int64  \n",
      " 5   population_change      56 non-null     float64\n",
      " 6   population_change_pct  56 non-null     float64\n",
      "dtypes: float64(4), int64(3)\n",
      "memory usage: 3.5 KB\n"
     ]
    }
   ],
   "source": [
    "chi_zips.info() # check for null and dtypes -> looks good"
   ]
  },
  {
   "cell_type": "code",
   "execution_count": 12,
   "metadata": {},
   "outputs": [],
   "source": [
    "chi_zips.to_csv('chi_zips/chi_zips_2015-2020.csv', index=False)"
   ]
  }
 ],
 "metadata": {
  "kernelspec": {
   "display_name": "base",
   "language": "python",
   "name": "python3"
  },
  "language_info": {
   "codemirror_mode": {
    "name": "ipython",
    "version": 3
   },
   "file_extension": ".py",
   "mimetype": "text/x-python",
   "name": "python",
   "nbconvert_exporter": "python",
   "pygments_lexer": "ipython3",
   "version": "3.10.9"
  }
 },
 "nbformat": 4,
 "nbformat_minor": 2
}
